{
 "cells": [
  {
   "cell_type": "code",
   "execution_count": 1,
   "metadata": {},
   "outputs": [
    {
     "name": "stderr",
     "output_type": "stream",
     "text": [
      "/opt/anaconda3/envs/torch-env/lib/python3.10/site-packages/tqdm/auto.py:21: TqdmWarning: IProgress not found. Please update jupyter and ipywidgets. See https://ipywidgets.readthedocs.io/en/stable/user_install.html\n",
      "  from .autonotebook import tqdm as notebook_tqdm\n"
     ]
    }
   ],
   "source": [
    "import os\n",
    "import glob\n",
    "from dotenv import load_dotenv\n",
    "import gradio as gr\n",
    "from openai import OpenAI"
   ]
  },
  {
   "cell_type": "code",
   "execution_count": 2,
   "metadata": {},
   "outputs": [
    {
     "name": "stdout",
     "output_type": "stream",
     "text": [
      "Requirement already satisfied: langchain-community in /opt/anaconda3/envs/torch-env/lib/python3.10/site-packages (0.3.27)\n",
      "Requirement already satisfied: langchain-core<1.0.0,>=0.3.66 in /opt/anaconda3/envs/torch-env/lib/python3.10/site-packages (from langchain-community) (0.3.68)\n",
      "Requirement already satisfied: langchain<1.0.0,>=0.3.26 in /opt/anaconda3/envs/torch-env/lib/python3.10/site-packages (from langchain-community) (0.3.26)\n",
      "Requirement already satisfied: SQLAlchemy<3,>=1.4 in /opt/anaconda3/envs/torch-env/lib/python3.10/site-packages (from langchain-community) (2.0.41)\n",
      "Requirement already satisfied: requests<3,>=2 in /opt/anaconda3/envs/torch-env/lib/python3.10/site-packages (from langchain-community) (2.32.4)\n",
      "Requirement already satisfied: PyYAML>=5.3 in /opt/anaconda3/envs/torch-env/lib/python3.10/site-packages (from langchain-community) (6.0.2)\n",
      "Requirement already satisfied: aiohttp<4.0.0,>=3.8.3 in /opt/anaconda3/envs/torch-env/lib/python3.10/site-packages (from langchain-community) (3.12.13)\n",
      "Requirement already satisfied: tenacity!=8.4.0,<10,>=8.1.0 in /opt/anaconda3/envs/torch-env/lib/python3.10/site-packages (from langchain-community) (9.1.2)\n",
      "Requirement already satisfied: dataclasses-json<0.7,>=0.5.7 in /opt/anaconda3/envs/torch-env/lib/python3.10/site-packages (from langchain-community) (0.6.7)\n",
      "Requirement already satisfied: pydantic-settings<3.0.0,>=2.4.0 in /opt/anaconda3/envs/torch-env/lib/python3.10/site-packages (from langchain-community) (2.10.1)\n",
      "Requirement already satisfied: langsmith>=0.1.125 in /opt/anaconda3/envs/torch-env/lib/python3.10/site-packages (from langchain-community) (0.4.4)\n",
      "Requirement already satisfied: httpx-sse<1.0.0,>=0.4.0 in /opt/anaconda3/envs/torch-env/lib/python3.10/site-packages (from langchain-community) (0.4.1)\n",
      "Requirement already satisfied: numpy>=1.26.2 in /opt/anaconda3/envs/torch-env/lib/python3.10/site-packages (from langchain-community) (2.2.6)\n",
      "Requirement already satisfied: aiohappyeyeballs>=2.5.0 in /opt/anaconda3/envs/torch-env/lib/python3.10/site-packages (from aiohttp<4.0.0,>=3.8.3->langchain-community) (2.6.1)\n",
      "Requirement already satisfied: aiosignal>=1.1.2 in /opt/anaconda3/envs/torch-env/lib/python3.10/site-packages (from aiohttp<4.0.0,>=3.8.3->langchain-community) (1.4.0)\n",
      "Requirement already satisfied: async-timeout<6.0,>=4.0 in /opt/anaconda3/envs/torch-env/lib/python3.10/site-packages (from aiohttp<4.0.0,>=3.8.3->langchain-community) (4.0.3)\n",
      "Requirement already satisfied: attrs>=17.3.0 in /opt/anaconda3/envs/torch-env/lib/python3.10/site-packages (from aiohttp<4.0.0,>=3.8.3->langchain-community) (25.3.0)\n",
      "Requirement already satisfied: frozenlist>=1.1.1 in /opt/anaconda3/envs/torch-env/lib/python3.10/site-packages (from aiohttp<4.0.0,>=3.8.3->langchain-community) (1.7.0)\n",
      "Requirement already satisfied: multidict<7.0,>=4.5 in /opt/anaconda3/envs/torch-env/lib/python3.10/site-packages (from aiohttp<4.0.0,>=3.8.3->langchain-community) (6.6.3)\n",
      "Requirement already satisfied: propcache>=0.2.0 in /opt/anaconda3/envs/torch-env/lib/python3.10/site-packages (from aiohttp<4.0.0,>=3.8.3->langchain-community) (0.3.2)\n",
      "Requirement already satisfied: yarl<2.0,>=1.17.0 in /opt/anaconda3/envs/torch-env/lib/python3.10/site-packages (from aiohttp<4.0.0,>=3.8.3->langchain-community) (1.20.1)\n",
      "Requirement already satisfied: marshmallow<4.0.0,>=3.18.0 in /opt/anaconda3/envs/torch-env/lib/python3.10/site-packages (from dataclasses-json<0.7,>=0.5.7->langchain-community) (3.26.1)\n",
      "Requirement already satisfied: typing-inspect<1,>=0.4.0 in /opt/anaconda3/envs/torch-env/lib/python3.10/site-packages (from dataclasses-json<0.7,>=0.5.7->langchain-community) (0.9.0)\n",
      "Requirement already satisfied: langchain-text-splitters<1.0.0,>=0.3.8 in /opt/anaconda3/envs/torch-env/lib/python3.10/site-packages (from langchain<1.0.0,>=0.3.26->langchain-community) (0.3.8)\n",
      "Requirement already satisfied: pydantic<3.0.0,>=2.7.4 in /opt/anaconda3/envs/torch-env/lib/python3.10/site-packages (from langchain<1.0.0,>=0.3.26->langchain-community) (2.11.5)\n",
      "Requirement already satisfied: jsonpatch<2.0,>=1.33 in /opt/anaconda3/envs/torch-env/lib/python3.10/site-packages (from langchain-core<1.0.0,>=0.3.66->langchain-community) (1.33)\n",
      "Requirement already satisfied: packaging<25,>=23.2 in /opt/anaconda3/envs/torch-env/lib/python3.10/site-packages (from langchain-core<1.0.0,>=0.3.66->langchain-community) (24.2)\n",
      "Requirement already satisfied: typing-extensions>=4.7 in /opt/anaconda3/envs/torch-env/lib/python3.10/site-packages (from langchain-core<1.0.0,>=0.3.66->langchain-community) (4.14.0)\n",
      "Requirement already satisfied: jsonpointer>=1.9 in /opt/anaconda3/envs/torch-env/lib/python3.10/site-packages (from jsonpatch<2.0,>=1.33->langchain-core<1.0.0,>=0.3.66->langchain-community) (3.0.0)\n",
      "Requirement already satisfied: annotated-types>=0.6.0 in /opt/anaconda3/envs/torch-env/lib/python3.10/site-packages (from pydantic<3.0.0,>=2.7.4->langchain<1.0.0,>=0.3.26->langchain-community) (0.7.0)\n",
      "Requirement already satisfied: pydantic-core==2.33.2 in /opt/anaconda3/envs/torch-env/lib/python3.10/site-packages (from pydantic<3.0.0,>=2.7.4->langchain<1.0.0,>=0.3.26->langchain-community) (2.33.2)\n",
      "Requirement already satisfied: typing-inspection>=0.4.0 in /opt/anaconda3/envs/torch-env/lib/python3.10/site-packages (from pydantic<3.0.0,>=2.7.4->langchain<1.0.0,>=0.3.26->langchain-community) (0.4.1)\n",
      "Requirement already satisfied: python-dotenv>=0.21.0 in /opt/anaconda3/envs/torch-env/lib/python3.10/site-packages (from pydantic-settings<3.0.0,>=2.4.0->langchain-community) (1.1.0)\n",
      "Requirement already satisfied: charset_normalizer<4,>=2 in /opt/anaconda3/envs/torch-env/lib/python3.10/site-packages (from requests<3,>=2->langchain-community) (3.4.2)\n",
      "Requirement already satisfied: idna<4,>=2.5 in /opt/anaconda3/envs/torch-env/lib/python3.10/site-packages (from requests<3,>=2->langchain-community) (3.10)\n",
      "Requirement already satisfied: urllib3<3,>=1.21.1 in /opt/anaconda3/envs/torch-env/lib/python3.10/site-packages (from requests<3,>=2->langchain-community) (2.4.0)\n",
      "Requirement already satisfied: certifi>=2017.4.17 in /opt/anaconda3/envs/torch-env/lib/python3.10/site-packages (from requests<3,>=2->langchain-community) (2025.4.26)\n",
      "Requirement already satisfied: greenlet>=1 in /opt/anaconda3/envs/torch-env/lib/python3.10/site-packages (from SQLAlchemy<3,>=1.4->langchain-community) (3.2.3)\n",
      "Requirement already satisfied: mypy-extensions>=0.3.0 in /opt/anaconda3/envs/torch-env/lib/python3.10/site-packages (from typing-inspect<1,>=0.4.0->dataclasses-json<0.7,>=0.5.7->langchain-community) (1.1.0)\n",
      "Requirement already satisfied: httpx<1,>=0.23.0 in /opt/anaconda3/envs/torch-env/lib/python3.10/site-packages (from langsmith>=0.1.125->langchain-community) (0.28.1)\n",
      "Requirement already satisfied: orjson<4.0.0,>=3.9.14 in /opt/anaconda3/envs/torch-env/lib/python3.10/site-packages (from langsmith>=0.1.125->langchain-community) (3.10.18)\n",
      "Requirement already satisfied: requests-toolbelt<2.0.0,>=1.0.0 in /opt/anaconda3/envs/torch-env/lib/python3.10/site-packages (from langsmith>=0.1.125->langchain-community) (1.0.0)\n",
      "Requirement already satisfied: zstandard<0.24.0,>=0.23.0 in /opt/anaconda3/envs/torch-env/lib/python3.10/site-packages (from langsmith>=0.1.125->langchain-community) (0.23.0)\n",
      "Requirement already satisfied: anyio in /opt/anaconda3/envs/torch-env/lib/python3.10/site-packages (from httpx<1,>=0.23.0->langsmith>=0.1.125->langchain-community) (4.9.0)\n",
      "Requirement already satisfied: httpcore==1.* in /opt/anaconda3/envs/torch-env/lib/python3.10/site-packages (from httpx<1,>=0.23.0->langsmith>=0.1.125->langchain-community) (1.0.9)\n",
      "Requirement already satisfied: h11>=0.16 in /opt/anaconda3/envs/torch-env/lib/python3.10/site-packages (from httpcore==1.*->httpx<1,>=0.23.0->langsmith>=0.1.125->langchain-community) (0.16.0)\n",
      "Requirement already satisfied: exceptiongroup>=1.0.2 in /opt/anaconda3/envs/torch-env/lib/python3.10/site-packages (from anyio->httpx<1,>=0.23.0->langsmith>=0.1.125->langchain-community) (1.3.0)\n",
      "Requirement already satisfied: sniffio>=1.1 in /opt/anaconda3/envs/torch-env/lib/python3.10/site-packages (from anyio->httpx<1,>=0.23.0->langsmith>=0.1.125->langchain-community) (1.3.1)\n",
      "Note: you may need to restart the kernel to use updated packages.\n"
     ]
    },
    {
     "data": {
      "text/plain": [
       "True"
      ]
     },
     "execution_count": 2,
     "metadata": {},
     "output_type": "execute_result"
    }
   ],
   "source": [
    "# Install missing langchain-community package\n",
    "%pip install langchain-community\n",
    "\n",
    "# Correct imports for newer LangChain versions\n",
    "from langchain_community.document_loaders import PyPDFLoader, DirectoryLoader\n",
    "from langchain.text_splitter import RecursiveCharacterTextSplitter\n",
    "from dotenv import load_dotenv\n",
    "import os\n",
    "\n",
    "load_dotenv(override=True)"
   ]
  },
  {
   "cell_type": "code",
   "execution_count": 3,
   "metadata": {},
   "outputs": [],
   "source": [
    "model=\"gpt-3.5-turbo\"\n",
    "db_name=\"vector_db\""
   ]
  },
  {
   "cell_type": "code",
   "execution_count": 4,
   "metadata": {},
   "outputs": [],
   "source": [
    "load_dotenv(override=True)\n",
    "os.environ[\"OPENAI_API_KEY\"] = os.getenv(\"OPENAI_API_KEY\")\n",
    "openai=OpenAI()\n"
   ]
  },
  {
   "cell_type": "code",
   "execution_count": 5,
   "metadata": {},
   "outputs": [
    {
     "name": "stdout",
     "output_type": "stream",
     "text": [
      "Python executable: /opt/anaconda3/envs/torch-env/bin/python\n",
      "Python version: 3.10.18 (main, Jun  5 2025, 08:13:51) [Clang 14.0.6 ]\n"
     ]
    }
   ],
   "source": [
    "#for checking the current working environment\n",
    "import sys\n",
    "print(\"Python executable:\", sys.executable)\n",
    "print(\"Python version:\", sys.version)"
   ]
  },
  {
   "cell_type": "code",
   "execution_count": 6,
   "metadata": {},
   "outputs": [
    {
     "name": "stdout",
     "output_type": "stream",
     "text": [
      "Requirement already satisfied: pypdf in /opt/anaconda3/envs/torch-env/lib/python3.10/site-packages (5.8.0)\n",
      "Requirement already satisfied: typing_extensions>=4.0 in /opt/anaconda3/envs/torch-env/lib/python3.10/site-packages (from pypdf) (4.14.0)\n"
     ]
    },
    {
     "data": {
      "text/plain": [
       "0"
      ]
     },
     "execution_count": 6,
     "metadata": {},
     "output_type": "execute_result"
    }
   ],
   "source": [
    "# Run this in your notebook cell\n",
    "import subprocess\n",
    "import sys\n",
    "\n",
    "# Install pypdf in current environment\n",
    "subprocess.check_call([sys.executable, \"-m\", \"pip\", \"install\", \"pypdf\"])"
   ]
  },
  {
   "cell_type": "code",
   "execution_count": 7,
   "metadata": {},
   "outputs": [
    {
     "name": "stderr",
     "output_type": "stream",
     "text": [
      "Ignoring wrong pointing object 9 0 (offset 0)\n",
      "Ignoring wrong pointing object 11 0 (offset 0)\n",
      "Ignoring wrong pointing object 22 0 (offset 0)\n",
      "Ignoring wrong pointing object 24 0 (offset 0)\n",
      "Ignoring wrong pointing object 26 0 (offset 0)\n",
      "Ignoring wrong pointing object 28 0 (offset 0)\n",
      "Ignoring wrong pointing object 30 0 (offset 0)\n"
     ]
    },
    {
     "name": "stdout",
     "output_type": "stream",
     "text": [
      "Starting PDF loading process...\n",
      "Found 7 PDF files to process:\n",
      "--------------------------------------------------\n",
      "\n",
      "[1/7] Processing: SJ_Developers.pdf\n",
      "Location: ../data/documents/SJ DEVELOPERS DATA/SJ_Developers.pdf\n"
     ]
    },
    {
     "name": "stderr",
     "output_type": "stream",
     "text": [
      "Ignoring wrong pointing object 37 0 (offset 0)\n",
      "Ignoring wrong pointing object 39 0 (offset 0)\n",
      "Ignoring wrong pointing object 46 0 (offset 0)\n",
      "Ignoring wrong pointing object 55 0 (offset 0)\n",
      "Ignoring wrong pointing object 76 0 (offset 0)\n",
      "Ignoring wrong pointing object 78 0 (offset 0)\n",
      "Ignoring wrong pointing object 97 0 (offset 0)\n",
      "Ignoring wrong pointing object 99 0 (offset 0)\n"
     ]
    },
    {
     "name": "stdout",
     "output_type": "stream",
     "text": [
      "✓ SUCCESS: Loaded 9 pages\n",
      "\n",
      "[2/7] Processing: Sri Sathya Sai Serenity_Layout_Final.pdf\n",
      "Location: ../data/documents/SJ DEVELOPERS DATA/Sri Sathya Sai Serenity_Layout_Final.pdf\n",
      "✓ SUCCESS: Loaded 1 pages\n",
      "\n",
      "[3/7] Processing: AmariFarms_Brochure.pdf\n",
      "Location: ../data/documents/SJ DEVELOPERS DATA/AmariFarms_Brochure.pdf\n",
      "✓ SUCCESS: Loaded 30 pages\n",
      "\n",
      "[4/7] Processing: VILLA 01.pdf\n",
      "Location: ../data/documents/SJ DEVELOPERS DATA/VILLA 01.pdf\n",
      "✓ SUCCESS: Loaded 2 pages\n",
      "\n",
      "[5/7] Processing: VILLA 02.pdf\n",
      "Location: ../data/documents/SJ DEVELOPERS DATA/VILLA 02.pdf\n",
      "✓ SUCCESS: Loaded 2 pages\n",
      "\n",
      "[6/7] Processing: REGISTRATION OF FIRMS.pdf\n",
      "Location: ../data/documents/SJ DEVELOPERS DATA/REGISTRATION OF FIRMS.pdf\n",
      "✓ SUCCESS: Loaded 1 pages\n",
      "\n",
      "[7/7] Processing: CIBW1022010.pdf\n",
      "Location: ../data/documents/SJ DEVELOPERS DATA/CIBW1022010.pdf\n",
      "✓ SUCCESS: Loaded 17 pages\n",
      "\n",
      "============================================================\n",
      "LOADING SUMMARY\n",
      "============================================================\n",
      "Total files found: 7\n",
      "Successfully loaded: 7\n",
      "Failed to load: 0\n",
      "Total pages extracted: 62\n",
      "\n",
      "✓ SUCCESSFUL FILES:\n",
      "  - SJ_Developers.pdf: 9 pages\n",
      "  - Sri Sathya Sai Serenity_Layout_Final.pdf: 1 pages\n",
      "  - AmariFarms_Brochure.pdf: 30 pages\n",
      "  - VILLA 01.pdf: 2 pages\n",
      "  - VILLA 02.pdf: 2 pages\n",
      "  - REGISTRATION OF FIRMS.pdf: 1 pages\n",
      "  - CIBW1022010.pdf: 17 pages\n",
      "\n",
      "📄 SAMPLE CONTENT from SJ_Developers.pdf:\n",
      "--------------------------------------------------\n",
      "SJ DevelopersAnantapuram, Andhra Pradesh., India...\n"
     ]
    }
   ],
   "source": [
    "import os\n",
    "from pathlib import Path\n",
    "from langchain_community.document_loaders import PyPDFLoader\n",
    "from langchain.text_splitter import RecursiveCharacterTextSplitter\n",
    "\n",
    "def load_pdf_files_one_by_one():\n",
    "    base_folder = Path('../data/documents')\n",
    "    all_documents = []\n",
    "    loaded_files = []\n",
    "    failed_files = []\n",
    "    \n",
    "    # Find all PDF files recursively\n",
    "    pdf_files = list(base_folder.rglob(\"*.pdf\"))\n",
    "    \n",
    "    print(f\"Found {len(pdf_files)} PDF files to process:\")\n",
    "    print(\"-\" * 50)\n",
    "    \n",
    "    for i, pdf_file in enumerate(pdf_files, 1):\n",
    "        print(f\"\\n[{i}/{len(pdf_files)}] Processing: {pdf_file.name}\")\n",
    "        print(f\"Location: {pdf_file}\")\n",
    "        \n",
    "        try:\n",
    "            # Load individual PDF\n",
    "            loader = PyPDFLoader(str(pdf_file))\n",
    "            documents = loader.load()\n",
    "            \n",
    "            # Add metadata about source file\n",
    "            for doc in documents:\n",
    "                doc.metadata['source_file'] = pdf_file.name\n",
    "                doc.metadata['file_path'] = str(pdf_file)\n",
    "            \n",
    "            all_documents.extend(documents)\n",
    "            loaded_files.append({\n",
    "                'file': pdf_file.name,\n",
    "                'pages': len(documents),\n",
    "                'status': 'SUCCESS'\n",
    "            })\n",
    "            \n",
    "            print(f\"✓ SUCCESS: Loaded {len(documents)} pages\")\n",
    "            \n",
    "        except Exception as e:\n",
    "            failed_files.append({\n",
    "                'file': pdf_file.name,\n",
    "                'error': str(e),\n",
    "                'status': 'FAILED'\n",
    "            })\n",
    "            print(f\"✗ FAILED: {e}\")\n",
    "    \n",
    "    # Summary report\n",
    "    print(\"\\n\" + \"=\"*60)\n",
    "    print(\"LOADING SUMMARY\")\n",
    "    print(\"=\"*60)\n",
    "    print(f\"Total files found: {len(pdf_files)}\")\n",
    "    print(f\"Successfully loaded: {len(loaded_files)}\")\n",
    "    print(f\"Failed to load: {len(failed_files)}\")\n",
    "    print(f\"Total pages extracted: {len(all_documents)}\")\n",
    "    \n",
    "    # Detailed success report\n",
    "    if loaded_files:\n",
    "        print(f\"\\n✓ SUCCESSFUL FILES:\")\n",
    "        for file_info in loaded_files:\n",
    "            print(f\"  - {file_info['file']}: {file_info['pages']} pages\")\n",
    "    \n",
    "    # Detailed failure report\n",
    "    if failed_files:\n",
    "        print(f\"\\n✗ FAILED FILES:\")\n",
    "        for file_info in failed_files:\n",
    "            print(f\"  - {file_info['file']}: {file_info['error']}\")\n",
    "    \n",
    "    return all_documents, loaded_files, failed_files\n",
    "\n",
    "# Execute the loading\n",
    "print(\"Starting PDF loading process...\")\n",
    "documents, success_list, failure_list = load_pdf_files_one_by_one()\n",
    "\n",
    "# Optional: Show sample content from first document\n",
    "if documents:\n",
    "    print(f\"\\n📄 SAMPLE CONTENT from {documents[0].metadata.get('source_file', 'Unknown')}:\")\n",
    "    print(\"-\" * 50)\n",
    "    print(documents[0].page_content[:300] + \"...\")"
   ]
  }
 ],
 "metadata": {
  "kernelspec": {
   "display_name": "torch-env",
   "language": "python",
   "name": "python3"
  },
  "language_info": {
   "codemirror_mode": {
    "name": "ipython",
    "version": 3
   },
   "file_extension": ".py",
   "mimetype": "text/x-python",
   "name": "python",
   "nbconvert_exporter": "python",
   "pygments_lexer": "ipython3",
   "version": "3.10.18"
  }
 },
 "nbformat": 4,
 "nbformat_minor": 2
}
